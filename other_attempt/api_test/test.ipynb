{
 "cells": [
  {
   "cell_type": "code",
   "execution_count": 3,
   "metadata": {},
   "outputs": [
    {
     "name": "stdout",
     "output_type": "stream",
     "text": [
      "dict_keys(['reasoning', 'time_stats'])\n"
     ]
    }
   ],
   "source": [
    "import pickle\n",
    "\n",
    "with open('/hpc2hdd/home/bwang423/test/SSR-Spec_Scale_Reasoning/results/scale_reason_r3_prompt/QwQ-32B/live/24-0.pickle', 'rb') as f:\n",
    "    data = pickle.load(f)\n",
    "    print(data.keys())  # 检查是否包含 'ground_truth'"
   ]
  },
  {
   "cell_type": "code",
   "execution_count": 7,
   "metadata": {},
   "outputs": [
    {
     "name": "stdout",
     "output_type": "stream",
     "text": [
      "{'reasoning': \" ?\\n\\n\\n\\n\\n\\nOkay, let's see. I need to calculate 10! minus 7! multiplied by 6!. Hmm, factorials can get pretty big, so I should probably compute each part step by step.\\n\\nFirst, I'll recall that factorial notation means multiplying all positive integers up to that number. So 10! is 10×9×8×...×1, right? Similarly, 7! is 7×6×5×...×1 and 6! is 6×5×...×1. But doing all of them separately might take a while. Maybe there's a way to simplify before multiplying everything out?\\n\\nWait, the problem is 10! minus (7! multiplied by 6!). Let me write that down as:\\n\\n10! - (7! · 6!)\\n\\nHmm, perhaps I can factor out some common terms? Let me think. Let's compute each factorial first and then subtract, since I might not see an obvious simplification.\\n\\nStarting with 10!:\\n\\n10! = 10 × 9 × 8 × 7 × 6 × 5 × 4 × 3 × 2 × 1. But that's a big number. Maybe I can note that 10! = 10×9×8×7! because 7! is 7×6×...×1. So 10! can be written as 10×9×8×7!.\\n\\nSimilarly, 7! ×6! is just 7! multiplied by 6!.\\n\\nSo substituting that into the original expression:\\n\\n10! - 7!·6! = 10×9×8×7! - 7!×6!\\n\\nNow, I can factor out 7! from both terms:\\n\\n7! [10×9×8 - 6!]\\n\\nThat's better. Now I just need to compute the terms inside the brackets and then multiply by 7!.\\n\\nLet me compute 10×9×8 first. 10×9 is 90, then 90×8 is 720. So that part is 720.\\n\\nNow, 6! is 720 as well, right? Because 6×5×4×3×2×1 = 720.\\n\\nSo substituting back into the brackets: 720 - 720 = 0? Wait, that can't be right. Wait, hold on. Wait, no, the expression is 10×9×8 minus 6!.\\n\\nWait, so 10×9×8 is 720, and 6! is 720, so 720 - 720 is indeed 0. So then the entire expression would be 7! multiplied by 0, which is 0? But that seems too easy. Did I make a mistake here?\\n\\nWait a second, let me double-check. Let me recast the problem again.\\n\\nOriginal problem: 10! - (7! × 6!). Let me confirm the steps again.\\n\\nExpress 10! as 10×9×8×7!.\\n\\nYes, that's correct because 10! = 10×9×8×7×6×5×4×3×2×1 = 10×9×8 × (7×6×5×4×3×2×1) = 10×9×8 ×7!.\\n\\nThen 7! ×6! is 7! multiplied by 6!.\\n\\nSo when we factor out 7! from both terms, we have 7! [10×9×8 - 6!], which is correct.\\n\\nNow compute the bracket:\\n\\n10×9×8 = 720, and 6! = 720, so 720 - 720 = 0. Therefore, the entire expression is 7! ×0 = 0.\\n\\nWait, so the answer is 0? That seems surprising. Let me verify by calculating each term separately without factoring to see if that's correct.\\n\\nCompute 10! first:\\n\\n10! = 3628800.\\n\\n7! is 5040, and 6! is 720. So 7!×6! = 5040 ×720.\\n\\nLet me calculate 5040 ×720:\\n\\nFirst, 5000×720 = 3,600,000. Then 40×720 = 28,800. So total is 3,600,000 +28,800 = 3,628,800.\\n\\nWait, so 7!×6! is 5040×720 = 3,628,800.\\n\\nBut 10! is also 3,628,800. Wait, so 10! is equal to 3,628,800 and 7!×6! is also 3,628,800? Therefore, subtracting them gives zero?\\n\\nYes, that's exactly what that calculation shows. So the answer is indeed 0?\\n\\nHmm, that's interesting. So the problem is designed such that 10! equals 7!×6! ?\\n\\nWait, let me check 10! again. Let me compute 10×9×8×7×6×5×4×3×2×1 step by step:\\n\\n10×9 = 90\\n\\n90×8 = 720\\n\\n720×7 = 5040\\n\\n5040×6 = 30,240\\n\\n30,240×5 = 151,200\\n\\n151,200×4 = 604,800\\n\\n604,800×3 = 1,814,400\\n\\n1,814,400×2 = 3,628,800\\n\\n3,628,800×1 = 3,628,800. Okay, so 10! is indeed 3,628,800.\\n\\nThen 7! is 5040 (since 7×6×5×4×3×2×1 = 5040), and 6! is 720. Multiplying them gives 5040×720.\\n\\nLet me compute 5040 ×720 again:\\n\\n5040 × 700 = 3,528,000\\n\\n5040 ×20 = 100,800\\n\\nAdding them together: 3,528,000 +100,800 = 3,628,800. So yes, exactly the same as 10!.\\n\\nTherefore, 10! -7!×6! = 3,628,800 -3,628,800 =0.\\n\\nWow, so the answer is zero. That's clever. So the key was recognizing that 10! can be expressed in terms of 7! and 6!.\\n\\nAlternatively, perhaps there's a combinatorial interpretation here, but maybe that's overcomplicating. The straightforward calculation shows it's zero. So the final answer is zero.\\n\\nBut just to make sure I didn't make any arithmetic errors. Let me confirm 5040×720 once again.\\n\\n5040 × 700 = 5040 ×7 ×100 = 35,280 ×100=3,528,000.\\n\\n5040 ×20 = 100,800. Sum is 3,528,000 +100,800=3,628,800. Yep. And 10! is the same. So the subtraction is indeed zero. Alright, that's solid.\\n\\nSo the answer is 0. Therefore, boxed, it's \\\\boxed{0}.\\n</think>\\n\\nTo solve \\\\(10! - 7! \\\\cdot 6!\\\\), we start by expressing \\\\(10!\\\\) in terms of \\\\(7!\\\\):\\n\\n\\\\[\\n10! = 10 \\\\times 9 \\\\times 8 \\\\times 7!\\n\\\\]\\n\\nSubstituting this into the original expression, we get:\\n\\n\\\\[\\n10! - 7! \\\\cdot 6! = 10 \\\\times 9 \\\\times 8 \\\\times 7! - 7! \\\\times 6!\\n\\\\]\\n\\nFactor out \\\\(7!\\\\) from both terms:\\n\\n\\\\[\\n7! \\\\left(10 \\\\times 9 \\\\times 8 - 6!\\\\right)\\n\\\\]\\n\\nNext, compute the values inside the parentheses. Calculate \\\\(10 \\\\times 9 \\\\times 8\\\\):\\n\\n\\\\[\\n10 \\\\times 9 \\\\times 8 = 720\\n\\\\]\\n\\nCalculate \\\\(6!\\\\):\\n\\n\\\\[\\n6! = 720\\n\\\\]\\n\\nSubstitute these values back into the expression:\\n\\n\\\\[\\n7! \\\\left(720 - 720\\\\right) = 7! \\\\times 0 = 0\\n\\\\]\\n\\nThus, the result of \\\\(10! - 7! \\\\cdot 6!\\\\) is \\\\(\\\\boxed{0}\\\\).\", 'finished': True, 'num_tokens': 2067, 'elapsed_time': 35.83700156211853, 'token_time': 17.337688225504852, 'role_type': 1, 'stop_reason': 'finished', 'answer': 0, 'selection_reason': '多数原则: 3/3个结果给出相同答案'}\n"
     ]
    }
   ],
   "source": [
    "reasoning_data = data['reasoning']\n",
    "print(reasoning_data)"
   ]
  },
  {
   "cell_type": "code",
   "execution_count": 13,
   "metadata": {},
   "outputs": [
    {
     "name": "stdout",
     "output_type": "stream",
     "text": [
      "0\n"
     ]
    }
   ],
   "source": [
    "reasoning = reasoning_data.get(\"reasoning\", \"\")\n",
    "model_answer = reasoning_data.get(\"answer\") \n",
    "print(model_answer)"
   ]
  },
  {
   "cell_type": "code",
   "execution_count": 15,
   "metadata": {},
   "outputs": [
    {
     "name": "stdout",
     "output_type": "stream",
     "text": [
      "None\n"
     ]
    }
   ],
   "source": [
    "final_answer = reasoning_data.get(\"final_answer\")\n",
    "print(final_answer)"
   ]
  },
  {
   "cell_type": "code",
   "execution_count": 1,
   "metadata": {},
   "outputs": [
    {
     "name": "stderr",
     "output_type": "stream",
     "text": [
      "/hpc2hdd/home/bwang423/miniconda3/envs/ssr/lib/python3.12/site-packages/tqdm/auto.py:21: TqdmWarning: IProgress not found. Please update jupyter and ipywidgets. See https://ipywidgets.readthedocs.io/en/stable/user_install.html\n",
      "  from .autonotebook import tqdm as notebook_tqdm\n"
     ]
    },
    {
     "name": "stdout",
     "output_type": "stream",
     "text": [
      "正在加载 LiveMathBench 数据集...\n",
      "数据集加载完成，共 46 个问题\n",
      "\n",
      "前50个问题的基本信息:\n",
      "索引 0: 问题ID=N/A, 答案=$2$\n",
      "索引 1: 问题ID=N/A, 答案=$246$\n",
      "索引 2: 问题ID=N/A, 答案=$21$\n",
      "索引 3: 问题ID=N/A, 答案=$23$\n",
      "索引 4: 问题ID=N/A, 答案=$7$\n",
      "索引 5: 问题ID=N/A, 答案=$3$\n",
      "索引 6: 问题ID=N/A, 答案=$2024$\n",
      "索引 7: 问题ID=N/A, 答案=$0$\n",
      "索引 8: 问题ID=N/A, 答案=$8$\n",
      "索引 9: 问题ID=N/A, 答案=$\\frac{\\pi}{2} - 2\\alpha$\n",
      "索引 10: 问题ID=N/A, 答案=$20$\n",
      "索引 11: 问题ID=N/A, 答案=$21$\n",
      "索引 12: 问题ID=N/A, 答案=$\\left(0,\\frac{1}{2}\\right)$\n",
      "索引 13: 问题ID=N/A, 答案=$29$\n",
      "索引 14: 问题ID=N/A, 答案=$125$\n",
      "索引 15: 问题ID=N/A, 答案=$389$\n",
      "索引 16: 问题ID=N/A, 答案=$276$\n",
      "索引 17: 问题ID=N/A, 答案=$\\frac{39}{7}$\n",
      "索引 18: 问题ID=N/A, 答案=$\\left(\\frac{3}{4}, \\frac{7}{8}\\right]$\n",
      "索引 19: 问题ID=N/A, 答案=$338,551$\n",
      "索引 20: 问题ID=N/A, 答案=$68$\n",
      "索引 21: 问题ID=N/A, 答案=$15\\sqrt{7}$\n",
      "索引 22: 问题ID=N/A, 答案=$1292$\n",
      "索引 23: 问题ID=N/A, 答案=$2022$\n",
      "索引 24: 问题ID=N/A, 答案=$0$\n",
      "索引 25: 问题ID=N/A, 答案=$21$\n",
      "索引 26: 问题ID=N/A, 答案=$D$\n",
      "索引 27: 问题ID=N/A, 答案=$15$\n",
      "索引 28: 问题ID=N/A, 答案=$20$\n",
      "索引 29: 问题ID=N/A, 答案=$36$\n",
      "索引 30: 问题ID=N/A, 答案=$71$\n",
      "索引 31: 问题ID=N/A, 答案=$3$\n",
      "索引 32: 问题ID=N/A, 答案=$\\frac{91}{180}$\n",
      "索引 33: 问题ID=N/A, 答案=$\\frac{3}{2}$\n",
      "索引 34: 问题ID=N/A, 答案=$-34$\n",
      "索引 35: 问题ID=N/A, 答案=$2$\n",
      "索引 36: 问题ID=N/A, 答案=$\\log_2(\\frac{3}{\\sqrt{7}})$\n",
      "索引 37: 问题ID=N/A, 答案=$5$\n",
      "索引 38: 问题ID=N/A, 答案=$\\frac{1}{105}$\n",
      "索引 39: 问题ID=N/A, 答案=$319$\n",
      "索引 40: 问题ID=N/A, 答案=$911$\n",
      "索引 41: 问题ID=N/A, 答案=$154$\n",
      "索引 42: 问题ID=N/A, 答案=$15$\n",
      "索引 43: 问题ID=N/A, 答案=$\\frac{1+\\sqrt{2}}{2}$\n",
      "索引 44: 问题ID=N/A, 答案=$3$\n",
      "索引 45: 问题ID=N/A, 答案=$243$\n",
      "\n",
      "问题索引 24 的详细信息:\n",
      "问题ID: N/A\n",
      "问题: What is $10! - 7! \\cdot 6!$\n",
      "答案: $0$\n",
      "\n",
      "检查问题ID 24 的pickle文件:\n",
      "\n",
      "重复ID 0:\n",
      "问题内容: 未找到问题\n",
      "模型答案: None\n",
      "停止原因: finished\n",
      "\n",
      "重复ID 1:\n",
      "问题内容: 未找到问题\n",
      "模型答案: None\n",
      "停止原因: finished\n",
      "\n",
      "重复ID 2:\n",
      "问题内容: 未找到问题\n",
      "模型答案: None\n",
      "停止原因: finished\n",
      "\n",
      "检查可能的ID映射问题:\n"
     ]
    }
   ],
   "source": [
    "# debug_live_mathbench.py\n",
    "import os\n",
    "import pickle\n",
    "from datasets import load_dataset\n",
    "\n",
    "# 加载数据集\n",
    "print(\"正在加载 LiveMathBench 数据集...\")\n",
    "dataset = load_dataset(\"opencompass/LiveMathBench\", \"v202412_AMC_en\")[\"test\"]\n",
    "print(f\"数据集加载完成，共 {len(dataset)} 个问题\")\n",
    "\n",
    "# 检查前50个问题的ID和答案\n",
    "print(\"\\n前50个问题的基本信息:\")\n",
    "for i in range(min(50, len(dataset))):\n",
    "    print(f\"索引 {i}: 问题ID={dataset[i].get('id', 'N/A')}, 答案={dataset[i].get('answer', 'N/A')}\")\n",
    "\n",
    "# 特别检查问题24\n",
    "problem_idx = 24\n",
    "print(f\"\\n问题索引 {problem_idx} 的详细信息:\")\n",
    "problem_data = dataset[problem_idx]\n",
    "print(f\"问题ID: {problem_data.get('id', 'N/A')}\")\n",
    "print(f\"问题: {problem_data.get('question', 'N/A')}\")\n",
    "print(f\"答案: {problem_data.get('answer', 'N/A')}\")\n",
    "\n",
    "# 检查pickle文件\n",
    "results_dir = \"results/scale_reason_r3_prompt/QwQ-32B/live\"\n",
    "problem_id = 24  # 我们要检查的问题ID\n",
    "\n",
    "print(f\"\\n检查问题ID {problem_id} 的pickle文件:\")\n",
    "for repeat_id in range(3):  # 检查重复ID 0, 1, 2\n",
    "    pickle_file = f\"{results_dir}/{problem_id}-{repeat_id}.pickle\"\n",
    "    if os.path.exists(pickle_file):\n",
    "        try:\n",
    "            with open(pickle_file, \"rb\") as f:\n",
    "                data = pickle.load(f)\n",
    "            \n",
    "            # 提取模型的推理结果和问题信息\n",
    "            reasoning_data = data.get(\"reasoning\", {})\n",
    "            model_answer = reasoning_data.get(\"answer\") or reasoning_data.get(\"final_answer\")\n",
    "            question = data.get(\"question\", \"未找到问题\")\n",
    "            \n",
    "            print(f\"\\n重复ID {repeat_id}:\")\n",
    "            print(f\"问题内容: {question[:100]}...\" if len(str(question)) > 100 else f\"问题内容: {question}\")\n",
    "            print(f\"模型答案: {model_answer}\")\n",
    "            print(f\"停止原因: {reasoning_data.get('stop_reason', 'N/A')}\")\n",
    "        except Exception as e:\n",
    "            print(f\"无法读取 {pickle_file}: {e}\")\n",
    "    else:\n",
    "        print(f\"文件不存在: {pickle_file}\")\n",
    "\n",
    "# 检查可能的ID映射问题\n",
    "print(\"\\n检查可能的ID映射问题:\")\n",
    "pickle_files = [f for f in os.listdir(results_dir) if f.endswith(\".pickle\")]\n",
    "id_pattern = {}  # 用于存储pickle文件名中的ID与实际问题的映射\n",
    "\n",
    "for filename in pickle_files[:10]:  # 只检查前10个文件\n",
    "    try:\n",
    "        problem_id, repeat_id = map(int, filename.split(\".\")[0].split(\"-\"))\n",
    "        pickle_file = f\"{results_dir}/{filename}\"\n",
    "        \n",
    "        with open(pickle_file, \"rb\") as f:\n",
    "            data = pickle.load(f)\n",
    "        \n",
    "        # 尝试从pickle中提取问题ID或其他标识符\n",
    "        question = data.get(\"question\", \"\")\n",
    "        question_hash = hash(str(question))  # 使用问题内容的哈希作为标识符\n",
    "        \n",
    "        if problem_id not in id_pattern:\n",
    "            id_pattern[problem_id] = []\n",
    "        \n",
    "        id_pattern[problem_id].append((repeat_id, question_hash))\n",
    "    except Exception as e:\n",
    "        print(f\"处理文件 {filename} 时出错: {e}\")\n",
    "\n",
    "# 检查每个问题ID是否对应相同的问题\n",
    "for problem_id, hashes in id_pattern.items():\n",
    "    if len(set(h for _, h in hashes)) > 1:\n",
    "        print(f\"问题ID {problem_id} 对应了不同的问题!\")\n",
    "        for repeat_id, h in hashes:\n",
    "            print(f\"  重复ID {repeat_id}: 哈希值 {h}\")"
   ]
  }
 ],
 "metadata": {
  "kernelspec": {
   "display_name": "ssr",
   "language": "python",
   "name": "python3"
  },
  "language_info": {
   "codemirror_mode": {
    "name": "ipython",
    "version": 3
   },
   "file_extension": ".py",
   "mimetype": "text/x-python",
   "name": "python",
   "nbconvert_exporter": "python",
   "pygments_lexer": "ipython3",
   "version": "3.12.9"
  }
 },
 "nbformat": 4,
 "nbformat_minor": 2
}
